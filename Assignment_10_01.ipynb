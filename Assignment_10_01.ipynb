{
  "nbformat": 4,
  "nbformat_minor": 0,
  "metadata": {
    "colab": {
      "name": "Assignment-10/01.ipynb",
      "provenance": [],
      "collapsed_sections": [],
      "authorship_tag": "ABX9TyP6E/OilQQgpZ0Ok0YGxx31",
      "include_colab_link": true
    },
    "kernelspec": {
      "name": "python3",
      "display_name": "Python 3"
    },
    "language_info": {
      "name": "python"
    }
  },
  "cells": [
    {
      "cell_type": "markdown",
      "metadata": {
        "id": "view-in-github",
        "colab_type": "text"
      },
      "source": [
        "<a href=\"https://colab.research.google.com/github/okti3535/python-/blob/main/Assignment_10_01.ipynb\" target=\"_parent\"><img src=\"https://colab.research.google.com/assets/colab-badge.svg\" alt=\"Open In Colab\"/></a>"
      ]
    },
    {
      "cell_type": "code",
      "metadata": {
        "id": "owMOLAYom9w6"
      },
      "source": [
        "name = input(\"enter your name:\")\n",
        "if name == \"oktay\":\n",
        "  print(\"Hello, {} ! The password is : W@12\".format(name))\n",
        "else:\n",
        "  print(\"Hello, {} ! See you later\".format(name))\n"
      ],
      "execution_count": null,
      "outputs": []
    }
  ]
}