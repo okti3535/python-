{
  "nbformat": 4,
  "nbformat_minor": 0,
  "metadata": {
    "colab": {
      "name": "armstrong_sayisi.ipynb",
      "provenance": [],
      "collapsed_sections": [],
      "authorship_tag": "ABX9TyPNpZwt0Zi9MVDB80fUfhaw",
      "include_colab_link": true
    },
    "kernelspec": {
      "name": "python3",
      "display_name": "Python 3"
    },
    "language_info": {
      "name": "python"
    }
  },
  "cells": [
    {
      "cell_type": "markdown",
      "metadata": {
        "id": "view-in-github",
        "colab_type": "text"
      },
      "source": [
        "<a href=\"https://colab.research.google.com/github/okti3535/python-/blob/main/armstrong_sayisi.ipynb\" target=\"_parent\"><img src=\"https://colab.research.google.com/assets/colab-badge.svg\" alt=\"Open In Colab\"/></a>"
      ]
    },
    {
      "cell_type": "code",
      "metadata": {
        "id": "8SE4OB06nIrH"
      },
      "source": [
        "number = input(\"Enter your number:\")\n",
        "if number.isdigit() and int(number) > 0:\n",
        "  length = len(number)\n",
        "  sum = 0\n",
        "  for integer in number:\n",
        "    integer = int(integer)\n",
        "    sum += integer**length\n",
        "  if int(number) == sum:\n",
        "    print(\"This is an Armstrong number\")\n",
        "  else:\n",
        "    print(\"This is not an Armstrong number\")\n",
        "else:\n",
        " print(\"Please enter a valid number\")"
      ],
      "execution_count": null,
      "outputs": []
    },
    {
      "cell_type": "code",
      "metadata": {
        "id": "2YBuMg-BpRtY"
      },
      "source": [
        ""
      ],
      "execution_count": null,
      "outputs": []
    }
  ]
}